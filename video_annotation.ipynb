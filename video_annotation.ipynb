{
 "cells": [
  {
   "cell_type": "code",
   "execution_count": 1,
   "id": "ce2ff97a-7f4a-4442-a1b7-07b1d392eafd",
   "metadata": {},
   "outputs": [],
   "source": [
    "import cv2\n",
    "import numpy as np\n",
    "import json\n",
    "from tqdm import tqdm"
   ]
  },
  {
   "cell_type": "code",
   "execution_count": 2,
   "id": "68ca87ed-73e1-4a7a-bd2a-b7b4e82e10ba",
   "metadata": {},
   "outputs": [],
   "source": [
    "video_name=\"ID-5\""
   ]
  },
  {
   "cell_type": "code",
   "execution_count": 3,
   "id": "7a4885b1-6956-4aa5-93ca-8ba7805f7699",
   "metadata": {},
   "outputs": [],
   "source": [
    "annotations = json.load(open(f'./{video_name}_video_ann.json'))"
   ]
  },
  {
   "cell_type": "markdown",
   "id": "9cce3d13-efff-4a25-bf4c-7745d570867d",
   "metadata": {},
   "source": [
    "# Generazione video con annotazioni"
   ]
  },
  {
   "cell_type": "code",
   "execution_count": 4,
   "id": "ec531b35-d563-47ea-a90d-c1c88e8b2602",
   "metadata": {},
   "outputs": [
    {
     "name": "stderr",
     "output_type": "stream",
     "text": [
      "\n",
      "00%|█████████████████████████████████████████████████████████████████████████████▉| 2999/3002 [00:57<00:00, 51.88it/s]"
     ]
    }
   ],
   "source": [
    "cap = cv2.VideoCapture(f'./test/{video_name}.avi')\n",
    "\n",
    "\n",
    "frame_width = int(cap.get(cv2.CAP_PROP_FRAME_WIDTH))\n",
    "frame_height = int(cap.get(cv2.CAP_PROP_FRAME_HEIGHT))\n",
    "fps = int(cap.get(cv2.CAP_PROP_FPS))\n",
    "frame_count = int(cap.get(cv2.CAP_PROP_FRAME_COUNT))\n",
    "\n",
    "fourcc = cv2.VideoWriter_fourcc(*'mp4v')\n",
    "out = cv2.VideoWriter(f'{video_name}_with_annotations.avi', fourcc, fps, (frame_width, frame_height))\n",
    "\n",
    "square_size = 20  # Width and height of the square\n",
    "color = (0, 255, 0)  # Green color for the square\n",
    "\n",
    "for frame_index in tqdm(range(0, frame_count)):\n",
    "    ret, frame = cap.read()\n",
    "    if not ret:\n",
    "        break\n",
    "        \n",
    "    coord = annotations[f'{frame_index:04d}.png']\n",
    "    x, y = coord['x'], coord['y']\n",
    "    if x>=0 and y>=0:\n",
    "        top_left = (round(x - square_size // 2), round(y - square_size // 2))\n",
    "        bottom_right = (round(x + square_size // 2), round(y + square_size // 2))\n",
    "        cv2.rectangle(frame, top_left, bottom_right, color, 2)\n",
    "        conf = round(coord['conf'], 2)\n",
    "        cv2.putText(frame, f'Ball - {conf}', (round(x)-10, round(y)-15), cv2.FONT_HERSHEY_SIMPLEX, 0.8, (0, 255, 255), 2)\n",
    "    out.write(frame)\n",
    "    \n",
    "cap.release()\n",
    "out.release()"
   ]
  },
  {
   "cell_type": "markdown",
   "id": "ad8da463-eac4-419f-ab76-b26f74b53fde",
   "metadata": {},
   "source": [
    "# Generazione video con traccia"
   ]
  },
  {
   "cell_type": "code",
   "execution_count": 5,
   "id": "3a3a2cba-219e-4a9b-854f-e09e749b53ec",
   "metadata": {},
   "outputs": [
    {
     "name": "stderr",
     "output_type": "stream",
     "text": [
      "\n",
      "00%|█████████████████████████████████████████████████████████████████████████████▉| 2999/3002 [00:58<00:00, 51.30it/s]"
     ]
    }
   ],
   "source": [
    "current_color = (0, 255, 0)  # Green for current point\n",
    "line_color = (0, 0, 255)     # Blue for the polyline\n",
    "\n",
    "cap = cv2.VideoCapture(f'./test/{video_name}.avi')\n",
    "\n",
    "frame_width = int(cap.get(cv2.CAP_PROP_FRAME_WIDTH))\n",
    "frame_height = int(cap.get(cv2.CAP_PROP_FRAME_HEIGHT))\n",
    "fps = int(cap.get(cv2.CAP_PROP_FPS))\n",
    "frame_count = int(cap.get(cv2.CAP_PROP_FRAME_COUNT))\n",
    "\n",
    "out = cv2.VideoWriter(f'{video_name}_with_tracks.avi', fourcc, fps, (frame_width, frame_height))\n",
    "\n",
    "square_size = 20  # Width and height of the square\n",
    "color = (0, 255, 0)  # Green color for the square\n",
    "\n",
    "for frame_index in tqdm(range(0, frame_count)):\n",
    "    ret, frame = cap.read()\n",
    "    if not ret:\n",
    "        break\n",
    "        \n",
    "    coord = annotations[f'{frame_index:04d}.png']\n",
    "    x, y = coord['x'], coord['y']\n",
    "    if x>=0 and y>=0:\n",
    "        top_left = (round(x - square_size // 2), round(y - square_size // 2))\n",
    "        bottom_right = (round(x + square_size // 2), round(y + square_size // 2))\n",
    "        cv2.rectangle(frame, top_left, bottom_right, color, 2)\n",
    "        points = []\n",
    "        for next_frame in range(frame_index, min(frame_index + 11, frame_count)):\n",
    "            frame_key = f'{next_frame:04d}.png'\n",
    "            x, y = annotations[frame_key]['x'], annotations[frame_key]['y']\n",
    "            if x<0 and y<0:\n",
    "                break\n",
    "            points.append((round(x), round(y)))\n",
    "        if len(points)>0:\n",
    "            points_np = np.array(points, dtype=np.int32)  # Convert list to numpy array of type int32\n",
    "            points_np = points_np.reshape((-1, 1, 2))  # Reshape to the format expected by polylines\n",
    "            cv2.polylines(frame, [points_np], isClosed=False, color=line_color, thickness=5)\n",
    "    out.write(frame)\n",
    "    \n",
    "cap.release()\n",
    "out.release()"
   ]
  },
  {
   "cell_type": "code",
   "execution_count": null,
   "id": "30b235f4-efac-4694-b8f2-0f4b3c652ffa",
   "metadata": {},
   "outputs": [],
   "source": []
  }
 ],
 "metadata": {
  "kernelspec": {
   "display_name": "cv_env",
   "language": "python",
   "name": "cv_env"
  },
  "language_info": {
   "codemirror_mode": {
    "name": "ipython",
    "version": 3
   },
   "file_extension": ".py",
   "mimetype": "text/x-python",
   "name": "python",
   "nbconvert_exporter": "python",
   "pygments_lexer": "ipython3",
   "version": "3.12.7"
  }
 },
 "nbformat": 4,
 "nbformat_minor": 5
}

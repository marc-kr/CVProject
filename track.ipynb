{
 "cells": [
  {
   "cell_type": "code",
   "execution_count": null,
   "metadata": {
    "_cell_guid": "b1076dfc-b9ad-4769-8c92-a6c4dae69d19",
    "_uuid": "8f2839f25d086af736a60e9eeb907d3b93b6e0e5",
    "execution": {
     "iopub.execute_input": "2025-01-05T19:16:40.604062Z",
     "iopub.status.busy": "2025-01-05T19:16:40.603659Z",
     "iopub.status.idle": "2025-01-05T19:16:47.840095Z",
     "shell.execute_reply": "2025-01-05T19:16:47.838746Z",
     "shell.execute_reply.started": "2025-01-05T19:16:40.604026Z"
    }
   },
   "outputs": [],
   "source": [
    "!pip install ultralytics"
   ]
  },
  {
   "cell_type": "code",
   "execution_count": null,
   "metadata": {
    "execution": {
     "iopub.execute_input": "2025-01-05T19:16:47.841694Z",
     "iopub.status.busy": "2025-01-05T19:16:47.841339Z",
     "iopub.status.idle": "2025-01-05T19:16:52.580783Z",
     "shell.execute_reply": "2025-01-05T19:16:52.579893Z",
     "shell.execute_reply.started": "2025-01-05T19:16:47.841666Z"
    }
   },
   "outputs": [],
   "source": [
    "from collections import defaultdict\n",
    "\n",
    "import cv2\n",
    "import numpy as np\n",
    "from ultralytics import YOLO\n",
    "from ultralytics import RTDETR\n",
    "import json"
   ]
  },
  {
   "cell_type": "code",
   "execution_count": null,
   "metadata": {},
   "outputs": [],
   "source": [
    "model = RTDETR('/kaggle/input/detr-cv/pytorch/detr2/1/last.pt')"
   ]
  },
  {
   "cell_type": "code",
   "execution_count": null,
   "metadata": {
    "execution": {
     "iopub.execute_input": "2025-01-05T19:24:37.972518Z",
     "iopub.status.busy": "2025-01-05T19:24:37.972179Z",
     "iopub.status.idle": "2025-01-05T19:24:38.099357Z",
     "shell.execute_reply": "2025-01-05T19:24:38.098326Z",
     "shell.execute_reply.started": "2025-01-05T19:24:37.972492Z"
    }
   },
   "outputs": [],
   "source": [
    "VIDEO_NAME='ID-5'"
   ]
  },
  {
   "cell_type": "code",
   "execution_count": null,
   "metadata": {
    "execution": {
     "iopub.execute_input": "2025-01-04T12:04:27.034421Z",
     "iopub.status.busy": "2025-01-04T12:04:27.033968Z",
     "iopub.status.idle": "2025-01-04T12:33:55.929181Z",
     "shell.execute_reply": "2025-01-04T12:33:55.927644Z",
     "shell.execute_reply.started": "2025-01-04T12:04:27.034389Z"
    }
   },
   "outputs": [],
   "source": [
    "video = f'/kaggle/input/soccer-videos/dataset_soccer/dataset_soccer/test/{VIDEO_NAME}.avi'\n",
    "\n",
    "results = model.track(source=video, tracker=\"/kaggle/input/soccer-videos/custom_tracker.yaml\", stream=True)\n",
    "annotations = {}\n",
    "\n",
    "for i, res in enumerate(results):\n",
    "    frame_id = f'{i:04d}.png'\n",
    "    annotations[frame_id] = json.loads(res.to_json())\n",
    "json.dump(annotations, open(f'{VIDEO_NAME}_trackannotations.json', 'w'))"
   ]
  }
 ],
 "metadata": {
  "kaggle": {
   "accelerator": "nvidiaTeslaT4",
   "dataSources": [
    {
     "datasetId": 6420520,
     "sourceId": 10372514,
     "sourceType": "datasetVersion"
    },
    {
     "datasetId": 6449378,
     "sourceId": 10410747,
     "sourceType": "datasetVersion"
    },
    {
     "modelId": 204483,
     "modelInstanceId": 185691,
     "sourceId": 218711,
     "sourceType": "modelInstanceVersion"
    },
    {
     "modelId": 204483,
     "modelInstanceId": 185691,
     "sourceId": 218750,
     "sourceType": "modelInstanceVersion"
    },
    {
     "isSourceIdPinned": true,
     "modelId": 204483,
     "modelInstanceId": 186859,
     "sourceId": 219114,
     "sourceType": "modelInstanceVersion"
    },
    {
     "isSourceIdPinned": true,
     "modelId": 204483,
     "modelInstanceId": 187171,
     "sourceId": 219473,
     "sourceType": "modelInstanceVersion"
    },
    {
     "isSourceIdPinned": true,
     "modelId": 204483,
     "modelInstanceId": 187173,
     "sourceId": 219475,
     "sourceType": "modelInstanceVersion"
    },
    {
     "isSourceIdPinned": true,
     "modelId": 204483,
     "modelInstanceId": 187393,
     "sourceId": 219731,
     "sourceType": "modelInstanceVersion"
    },
    {
     "isSourceIdPinned": true,
     "modelId": 204483,
     "modelInstanceId": 187535,
     "sourceId": 219899,
     "sourceType": "modelInstanceVersion"
    },
    {
     "isSourceIdPinned": true,
     "modelId": 211442,
     "modelInstanceId": 190035,
     "sourceId": 222759,
     "sourceType": "modelInstanceVersion"
    }
   ],
   "dockerImageVersionId": 30823,
   "isGpuEnabled": true,
   "isInternetEnabled": true,
   "language": "python",
   "sourceType": "notebook"
  },
  "kernelspec": {
   "display_name": "Python 3 (ipykernel)",
   "language": "python",
   "name": "python3"
  },
  "language_info": {
   "codemirror_mode": {
    "name": "ipython",
    "version": 3
   },
   "file_extension": ".py",
   "mimetype": "text/x-python",
   "name": "python",
   "nbconvert_exporter": "python",
   "pygments_lexer": "ipython3",
   "version": "3.13.1"
  }
 },
 "nbformat": 4,
 "nbformat_minor": 4
}
